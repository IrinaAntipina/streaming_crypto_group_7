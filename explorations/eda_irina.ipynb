{
 "cells": [
  {
   "cell_type": "code",
   "execution_count": null,
   "metadata": {},
   "outputs": [
    {
     "name": "stdout",
     "output_type": "stream",
     "text": [
      "{'status': {'timestamp': '2025-02-13T07:52:16.739Z', 'error_code': 0, 'error_message': None, 'elapsed': 21, 'credit_count': 1, 'notice': None}, 'data': {'BTC': {'id': 1, 'name': 'Bitcoin', 'symbol': 'BTC', 'slug': 'bitcoin', 'num_market_pairs': 11937, 'date_added': '2010-07-13T00:00:00.000Z', 'tags': ['mineable', 'pow', 'sha-256', 'store-of-value', 'state-channel', 'coinbase-ventures-portfolio', 'three-arrows-capital-portfolio', 'polychain-capital-portfolio', 'binance-labs-portfolio', 'blockchain-capital-portfolio', 'boostvc-portfolio', 'cms-holdings-portfolio', 'dcg-portfolio', 'dragonfly-capital-portfolio', 'electric-capital-portfolio', 'fabric-ventures-portfolio', 'framework-ventures-portfolio', 'galaxy-digital-portfolio', 'huobi-capital-portfolio', 'alameda-research-portfolio', 'a16z-portfolio', '1confirmation-portfolio', 'winklevoss-capital-portfolio', 'usv-portfolio', 'placeholder-ventures-portfolio', 'pantera-capital-portfolio', 'multicoin-capital-portfolio', 'paradigm-portfolio', 'bitcoin-ecosystem', 'ftx-bankruptcy-estate', '2017-2018-alt-season'], 'max_supply': 21000000, 'circulating_supply': 19823556, 'total_supply': 19823556, 'is_active': 1, 'infinite_supply': False, 'platform': None, 'cmc_rank': 1, 'is_fiat': 0, 'self_reported_circulating_supply': None, 'self_reported_market_cap': None, 'tvl_ratio': None, 'last_updated': '2025-02-13T07:50:00.000Z', 'quote': {'USD': {'price': 96153.90344269844, 'volume_24h': 50002276795.33851, 'volume_change_24h': 39.8901, 'percent_change_1h': 0.30056605, 'percent_change_24h': 0.17286247, 'percent_change_7d': -1.98039626, 'percent_change_30d': 1.37673156, 'percent_change_60d': -5.38894407, 'percent_change_90d': 9.37937604, 'market_cap': 1906112289514.9253, 'market_cap_dominance': 59.8797, 'fully_diluted_market_cap': 2019231972296.67, 'tvl': None, 'last_updated': '2025-02-13T07:50:00.000Z'}}}}}\n"
     ]
    }
   ],
   "source": [
    "\n",
    "import os\n",
    "import requests\n",
    "from dotenv import load_dotenv\n",
    "from pprint import pprint\n",
    "import pandas as pd\n",
    "\n",
    "load_dotenv()\n",
    "API_KEY = os.getenv(\"COINMARKET_API\")\n",
    "\n",
    "API_URL = \"https://pro-api.coinmarketcap.com/v1/cryptocurrency/quotes/latest\"\n",
    "\n",
    "target_symbol = \"TRX\"\n",
    "\n",
    "params = {\n",
    "    \"symbol\": target_symbol,\n",
    "    \"convert\": \"SEK\"\n",
    "}\n",
    "\n",
    "headers = {\n",
    "    \"Accepts\": \"application/json\",\n",
    "    \"X-CMC_PRO_API_KEY\": API_KEY\n",
    "}\n",
    "\n",
    "response = requests.get(API_URL, headers=headers, params=params)\n",
    "\n",
    "if response.status_code == 200:\n",
    "    data = response.json()  \n",
    "    trx_data = data[\"data\"][target_symbol]\n",
    "    price_sek = trx_data[\"quote\"][\"SEK\"][\"price\"]\n",
    "    market_cap = trx_data[\"quote\"][\"SEK\"][\"market_cap\"]\n",
    "    volume_24h = trx_data[\"quote\"][\"SEK\"][\"volume_24h\"]\n",
    "    percent_change_24h = trx_data[\"quote\"][\"SEK\"][\"percent_change_24h\"]\n",
    "\n",
    "    df = pd.DataFrame([{\n",
    "        \"Symbol\": target_symbol,\n",
    "        \"Price (SEK)\": price_sek,\n",
    "        \"Market Cap (SEK)\": market_cap,\n",
    "        \"24h Volume (SEK)\": volume_24h,\n",
    "        \"24h % Change\": percent_change_24h\n",
    "    }])\n",
    "\n",
    "    print(df)\n",
    "else:\n",
    "    pprint(f\"Error: {response.status_code}, {response.text}\")\n",
    "\n",
    "\n"
   ]
  },
  {
   "cell_type": "code",
   "execution_count": null,
   "metadata": {},
   "outputs": [],
   "source": []
  }
 ],
 "metadata": {
  "kernelspec": {
   "display_name": ".venv",
   "language": "python",
   "name": "python3"
  },
  "language_info": {
   "codemirror_mode": {
    "name": "ipython",
    "version": 3
   },
   "file_extension": ".py",
   "mimetype": "text/x-python",
   "name": "python",
   "nbconvert_exporter": "python",
   "pygments_lexer": "ipython3",
   "version": "3.12.1"
  }
 },
 "nbformat": 4,
 "nbformat_minor": 2
}
