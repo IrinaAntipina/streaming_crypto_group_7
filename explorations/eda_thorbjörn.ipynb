{
 "cells": [
  {
   "cell_type": "markdown",
   "metadata": {},
   "source": [
    "# EDA for crypto currency Tron (TRX)"
   ]
  },
  {
   "cell_type": "code",
   "execution_count": 1,
   "metadata": {},
   "outputs": [
    {
     "data": {
      "text/plain": [
       "{'status': {'timestamp': '2025-02-17T10:38:04.143Z',\n",
       "  'error_code': 0,\n",
       "  'error_message': None,\n",
       "  'elapsed': 28,\n",
       "  'credit_count': 1,\n",
       "  'notice': None},\n",
       " 'data': {'TRX': {'id': 1958,\n",
       "   'name': 'TRON',\n",
       "   'symbol': 'TRX',\n",
       "   'slug': 'tron',\n",
       "   'num_market_pairs': 1119,\n",
       "   'date_added': '2017-09-13T00:00:00.000Z',\n",
       "   'tags': ['media',\n",
       "    'payments',\n",
       "    'ethereum-ecosystem',\n",
       "    'tron-ecosystem',\n",
       "    'layer-1',\n",
       "    'dwf-labs-portfolio',\n",
       "    'alleged-sec-securities',\n",
       "    '2017-2018-alt-season',\n",
       "    'tron20-ecosystem'],\n",
       "   'max_supply': None,\n",
       "   'circulating_supply': 86095274233.62042,\n",
       "   'total_supply': 86095281006.64441,\n",
       "   'is_active': 1,\n",
       "   'infinite_supply': True,\n",
       "   'platform': None,\n",
       "   'cmc_rank': 10,\n",
       "   'is_fiat': 0,\n",
       "   'self_reported_circulating_supply': None,\n",
       "   'self_reported_market_cap': None,\n",
       "   'tvl_ratio': None,\n",
       "   'last_updated': '2025-02-17T10:37:00.000Z',\n",
       "   'quote': {'SEK': {'price': 2.6403620947436046,\n",
       "     'volume_24h': 6340362913.107309,\n",
       "     'volume_change_24h': 48.5272,\n",
       "     'percent_change_1h': -0.05786558,\n",
       "     'percent_change_24h': 3.25328482,\n",
       "     'percent_change_7d': 3.58726644,\n",
       "     'percent_change_30d': 2.74299973,\n",
       "     'percent_change_60d': -7.09221001,\n",
       "     'percent_change_90d': 20.98840701,\n",
       "     'market_cap': 227322698623.0071,\n",
       "     'market_cap_dominance': 0.6627,\n",
       "     'fully_diluted_market_cap': 227322716506.26932,\n",
       "     'tvl': None,\n",
       "     'last_updated': '2025-02-17T10:36:04.000Z'}}}}}"
      ]
     },
     "execution_count": 1,
     "metadata": {},
     "output_type": "execute_result"
    }
   ],
   "source": [
    "from requests import request, Session\n",
    "from requests.exceptions import ConnectionError, Timeout, TooManyRedirects\n",
    "import json\n",
    "from dotenv import load_dotenv\n",
    "import pandas as pd\n",
    "import matplotlib.pyplot as plt\n",
    "import seaborn as sns\n",
    "from pprint import pprint\n",
    "import os\n",
    "\n",
    "load_dotenv()\n",
    "\n",
    "API_KEY = os.getenv(\"COINMARKET_API\")\n",
    "\n",
    "API_URL1 = \"https://pro-api.coinmarketcap.com/v1/cryptocurrency/listings/latest\"\n",
    "\n",
    "API_URL2 = \"https://pro-api.coinmarketcap.com/v1/cryptocurrency/quotes/latest\"\n",
    "\n",
    "target_symbol = \"TRX\"\n",
    "\n",
    "parameters = {\n",
    "  'symbol': target_symbol,\n",
    "  'convert':'SEK'\n",
    "}\n",
    "headers = {\n",
    "  'Accepts': 'application/json',\n",
    "  'X-CMC_PRO_API_KEY': API_KEY,\n",
    "}\n",
    "\n",
    "session = Session()\n",
    "session.headers.update(headers)\n",
    "\n",
    "try:\n",
    "  response = session.get(API_URL2, params=parameters)\n",
    "  data = json.loads(response.text)\n",
    "  #pprint(data)\n",
    "except (ConnectionError, Timeout, TooManyRedirects) as e:\n",
    "  print(e)\n",
    "\n",
    "data"
   ]
  },
  {
   "cell_type": "code",
   "execution_count": 2,
   "metadata": {},
   "outputs": [
    {
     "data": {
      "text/plain": [
       "dict_keys(['status', 'data'])"
      ]
     },
     "execution_count": 2,
     "metadata": {},
     "output_type": "execute_result"
    }
   ],
   "source": [
    "data.keys()"
   ]
  },
  {
   "cell_type": "code",
   "execution_count": 3,
   "metadata": {},
   "outputs": [
    {
     "data": {
      "text/plain": [
       "dict_keys(['TRX'])"
      ]
     },
     "execution_count": 3,
     "metadata": {},
     "output_type": "execute_result"
    }
   ],
   "source": [
    "data[\"data\"].keys()"
   ]
  },
  {
   "cell_type": "code",
   "execution_count": 4,
   "metadata": {},
   "outputs": [
    {
     "data": {
      "text/plain": [
       "{'id': 1958,\n",
       " 'name': 'TRON',\n",
       " 'symbol': 'TRX',\n",
       " 'slug': 'tron',\n",
       " 'num_market_pairs': 1119,\n",
       " 'date_added': '2017-09-13T00:00:00.000Z',\n",
       " 'tags': ['media',\n",
       "  'payments',\n",
       "  'ethereum-ecosystem',\n",
       "  'tron-ecosystem',\n",
       "  'layer-1',\n",
       "  'dwf-labs-portfolio',\n",
       "  'alleged-sec-securities',\n",
       "  '2017-2018-alt-season',\n",
       "  'tron20-ecosystem'],\n",
       " 'max_supply': None,\n",
       " 'circulating_supply': 86095274233.62042,\n",
       " 'total_supply': 86095281006.64441,\n",
       " 'is_active': 1,\n",
       " 'infinite_supply': True,\n",
       " 'platform': None,\n",
       " 'cmc_rank': 10,\n",
       " 'is_fiat': 0,\n",
       " 'self_reported_circulating_supply': None,\n",
       " 'self_reported_market_cap': None,\n",
       " 'tvl_ratio': None,\n",
       " 'last_updated': '2025-02-17T10:37:00.000Z',\n",
       " 'quote': {'SEK': {'price': 2.6403620947436046,\n",
       "   'volume_24h': 6340362913.107309,\n",
       "   'volume_change_24h': 48.5272,\n",
       "   'percent_change_1h': -0.05786558,\n",
       "   'percent_change_24h': 3.25328482,\n",
       "   'percent_change_7d': 3.58726644,\n",
       "   'percent_change_30d': 2.74299973,\n",
       "   'percent_change_60d': -7.09221001,\n",
       "   'percent_change_90d': 20.98840701,\n",
       "   'market_cap': 227322698623.0071,\n",
       "   'market_cap_dominance': 0.6627,\n",
       "   'fully_diluted_market_cap': 227322716506.26932,\n",
       "   'tvl': None,\n",
       "   'last_updated': '2025-02-17T10:36:04.000Z'}}}"
      ]
     },
     "execution_count": 4,
     "metadata": {},
     "output_type": "execute_result"
    }
   ],
   "source": [
    "coind_data =data[\"data\"][\"TRX\"]\n",
    "coind_data"
   ]
  },
  {
   "cell_type": "code",
   "execution_count": 5,
   "metadata": {},
   "outputs": [
    {
     "data": {
      "text/plain": [
       "('TRON',\n",
       " 'TRX',\n",
       " {'SEK': {'price': 2.6403620947436046,\n",
       "   'volume_24h': 6340362913.107309,\n",
       "   'volume_change_24h': 48.5272,\n",
       "   'percent_change_1h': -0.05786558,\n",
       "   'percent_change_24h': 3.25328482,\n",
       "   'percent_change_7d': 3.58726644,\n",
       "   'percent_change_30d': 2.74299973,\n",
       "   'percent_change_60d': -7.09221001,\n",
       "   'percent_change_90d': 20.98840701,\n",
       "   'market_cap': 227322698623.0071,\n",
       "   'market_cap_dominance': 0.6627,\n",
       "   'fully_diluted_market_cap': 227322716506.26932,\n",
       "   'tvl': None,\n",
       "   'last_updated': '2025-02-17T10:36:04.000Z'}})"
      ]
     },
     "execution_count": 5,
     "metadata": {},
     "output_type": "execute_result"
    }
   ],
   "source": [
    "coind_data[\"name\"], coind_data[\"symbol\"], coind_data[\"quote\"]"
   ]
  },
  {
   "cell_type": "code",
   "execution_count": 6,
   "metadata": {},
   "outputs": [
    {
     "data": {
      "text/plain": [
       "{'price': 2.6403620947436046,\n",
       " 'volume_24h': 6340362913.107309,\n",
       " 'volume_change_24h': 48.5272,\n",
       " 'percent_change_1h': -0.05786558,\n",
       " 'percent_change_24h': 3.25328482,\n",
       " 'percent_change_7d': 3.58726644,\n",
       " 'percent_change_30d': 2.74299973,\n",
       " 'percent_change_60d': -7.09221001,\n",
       " 'percent_change_90d': 20.98840701,\n",
       " 'market_cap': 227322698623.0071,\n",
       " 'market_cap_dominance': 0.6627,\n",
       " 'fully_diluted_market_cap': 227322716506.26932,\n",
       " 'tvl': None,\n",
       " 'last_updated': '2025-02-17T10:36:04.000Z'}"
      ]
     },
     "execution_count": 6,
     "metadata": {},
     "output_type": "execute_result"
    }
   ],
   "source": [
    "quote = coind_data[\"quote\"][\"SEK\"]\n",
    "quote"
   ]
  },
  {
   "cell_type": "code",
   "execution_count": 7,
   "metadata": {},
   "outputs": [
    {
     "data": {
      "text/html": [
       "<div>\n",
       "<style scoped>\n",
       "    .dataframe tbody tr th:only-of-type {\n",
       "        vertical-align: middle;\n",
       "    }\n",
       "\n",
       "    .dataframe tbody tr th {\n",
       "        vertical-align: top;\n",
       "    }\n",
       "\n",
       "    .dataframe thead th {\n",
       "        text-align: right;\n",
       "    }\n",
       "</style>\n",
       "<table border=\"1\" class=\"dataframe\">\n",
       "  <thead>\n",
       "    <tr style=\"text-align: right;\">\n",
       "      <th></th>\n",
       "      <th>Name</th>\n",
       "      <th>Symbol</th>\n",
       "      <th>Slug</th>\n",
       "      <th>Date Added</th>\n",
       "      <th>Circulating Supply</th>\n",
       "      <th>Total Supply</th>\n",
       "      <th>Max Supply</th>\n",
       "      <th>Market Cap</th>\n",
       "      <th>Volume 24h</th>\n",
       "      <th>Price</th>\n",
       "      <th>Percent Change 1h</th>\n",
       "      <th>Percent Change 24h</th>\n",
       "      <th>Percent Change 7d</th>\n",
       "      <th>Percent Change 30d</th>\n",
       "      <th>Percent Change 60d</th>\n",
       "      <th>Percent Change 90d</th>\n",
       "      <th>Last Updated</th>\n",
       "    </tr>\n",
       "  </thead>\n",
       "  <tbody>\n",
       "    <tr>\n",
       "      <th>0</th>\n",
       "      <td>TRON</td>\n",
       "      <td>TRX</td>\n",
       "      <td>tron</td>\n",
       "      <td>2017-09-13T00:00:00.000Z</td>\n",
       "      <td>8.609527e+10</td>\n",
       "      <td>8.609528e+10</td>\n",
       "      <td>None</td>\n",
       "      <td>2.273227e+11</td>\n",
       "      <td>6.340363e+09</td>\n",
       "      <td>2.640362</td>\n",
       "      <td>-0.057866</td>\n",
       "      <td>3.253285</td>\n",
       "      <td>3.587266</td>\n",
       "      <td>2.743</td>\n",
       "      <td>-7.09221</td>\n",
       "      <td>20.988407</td>\n",
       "      <td>2025-02-17T10:36:04.000Z</td>\n",
       "    </tr>\n",
       "  </tbody>\n",
       "</table>\n",
       "</div>"
      ],
      "text/plain": [
       "   Name Symbol  Slug                Date Added  Circulating Supply  \\\n",
       "0  TRON    TRX  tron  2017-09-13T00:00:00.000Z        8.609527e+10   \n",
       "\n",
       "   Total Supply Max Supply    Market Cap    Volume 24h     Price  \\\n",
       "0  8.609528e+10       None  2.273227e+11  6.340363e+09  2.640362   \n",
       "\n",
       "   Percent Change 1h  Percent Change 24h  Percent Change 7d  \\\n",
       "0          -0.057866            3.253285           3.587266   \n",
       "\n",
       "   Percent Change 30d  Percent Change 60d  Percent Change 90d  \\\n",
       "0               2.743            -7.09221           20.988407   \n",
       "\n",
       "               Last Updated  \n",
       "0  2025-02-17T10:36:04.000Z  "
      ]
     },
     "execution_count": 7,
     "metadata": {},
     "output_type": "execute_result"
    }
   ],
   "source": [
    "# DataFrame analysis\n",
    "tron = {\n",
    "    \"Name\": coind_data[\"name\"],\n",
    "    \"Symbol\": coind_data[\"symbol\"],\n",
    "    \"Slug\": coind_data[\"slug\"],\n",
    "    \"Date Added\": coind_data[\"date_added\"],\n",
    "    \"Circulating Supply\": coind_data[\"circulating_supply\"],\n",
    "    \"Total Supply\": coind_data[\"total_supply\"],\n",
    "    \"Max Supply\": coind_data[\"max_supply\"],\n",
    "    \"Market Cap\": quote[\"market_cap\"],\n",
    "    \"Volume 24h\": quote[\"volume_24h\"],\n",
    "    \"Price\": quote[\"price\"],\n",
    "    \"Percent Change 1h\": quote[\"percent_change_1h\"],\n",
    "    \"Percent Change 24h\": quote[\"percent_change_24h\"],\n",
    "    \"Percent Change 7d\": quote[\"percent_change_7d\"],\n",
    "    \"Percent Change 30d\": quote[\"percent_change_30d\"],\n",
    "    \"Percent Change 60d\": quote[\"percent_change_60d\"],\n",
    "    \"Percent Change 90d\": quote[\"percent_change_90d\"],\n",
    "    \"Last Updated\": quote[\"last_updated\"]\n",
    "}\n",
    "\n",
    "df = pd.DataFrame([tron])\n",
    "\n",
    "df.head()"
   ]
  },
  {
   "cell_type": "code",
   "execution_count": 8,
   "metadata": {},
   "outputs": [
    {
     "data": {
      "image/png": "[encoded data removed]",
      "text/plain": [
       "<Figure size 1000x600 with 1 Axes>"
      ]
     },
     "metadata": {},
     "output_type": "display_data"
    }
   ],
   "source": [
    "# Visualize price changes\n",
    "plt.figure(figsize=(10, 6))\n",
    "sns.barplot(x=[\"1h\", \"24h\", \"7d\", \"30d\", \"60d\", \"90d\"], \n",
    "            y=[tron[\"Percent Change 1h\"], tron[\"Percent Change 24h\"], tron[\"Percent Change 7d\"], \n",
    "               tron[\"Percent Change 30d\"], tron[\"Percent Change 60d\"], tron[\"Percent Change 90d\"]],\n",
    "            hue=[\"1h\", \"24h\", \"7d\", \"30d\", \"60d\", \"90d\"], \n",
    "            palette=\"viridis\", legend=False)\n",
    "plt.title(\"Procentuell Prisförändring för Tron (TRX)\")\n",
    "plt.xlabel(\"Tidsperiod\")\n",
    "plt.ylabel(\"Procentuell förändring\")\n",
    "plt.grid(True)\n",
    "plt.show()"
   ]
  },
  {
   "cell_type": "markdown",
   "metadata": {},
   "source": [
    "## Convert to Nordic currencies"
   ]
  },
  {
   "cell_type": "code",
   "execution_count": 14,
   "metadata": {},
   "outputs": [
    {
     "name": "stdout",
     "output_type": "stream",
     "text": [
      "Namn: TRON\n",
      "Symbol: TRX\n",
      "Pris i SEK: 2.64 SEK\n",
      "Pris i NOK: 2.74 NOK\n",
      "Pris i DKK: 1.75 DKK\n",
      "Pris i ISK: 34.59 ISK\n",
      "Pris i EUR: 0.24 EUR\n"
     ]
    }
   ],
   "source": [
    "import requests\n",
    "\n",
    "valutor = ['SEK', 'NOK', 'DKK', 'ISK', 'EUR']\n",
    "resultat = {}\n",
    "namn = ''\n",
    "symbol = ''\n",
    "\n",
    "for valuta in valutor:\n",
    "    parameters = {\n",
    "        'start': '1',\n",
    "        'limit': '100',\n",
    "        'convert': valuta\n",
    "    }\n",
    "    \n",
    "    response = requests.get(API_URL1, headers=headers, params=parameters)\n",
    "    data = response.json()\n",
    "    \n",
    "    if 'data' in data:\n",
    "        for crypto in data['data']:\n",
    "            if crypto['symbol'] == 'TRX':\n",
    "                if not namn and not symbol:\n",
    "                    namn = crypto['name']\n",
    "                    symbol = crypto['symbol']\n",
    "                \n",
    "                resultat[valuta] = crypto['quote'][valuta]['price']\n",
    "                break\n",
    "    else:\n",
    "        print(\"Fel vid hämtning av data:\", data)\n",
    "\n",
    "print(f\"Namn: {namn}\")\n",
    "print(f\"Symbol: {symbol}\")\n",
    "for valuta, pris in resultat.items():\n",
    "    print(f\"Pris i {valuta}: {pris:.2f} {valuta}\")"
   ]
  }
 ],
 "metadata": {
  "kernelspec": {
   "display_name": ".venv",
   "language": "python",
   "name": "python3"
  },
  "language_info": {
   "codemirror_mode": {
    "name": "ipython",
    "version": 3
   },
   "file_extension": ".py",
   "mimetype": "text/x-python",
   "name": "python",
   "nbconvert_exporter": "python",
   "pygments_lexer": "ipython3",
   "version": "3.12.8"
  }
 },
 "nbformat": 4,
 "nbformat_minor": 2
}
